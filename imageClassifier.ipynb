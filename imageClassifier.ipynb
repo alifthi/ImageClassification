{
  "nbformat": 4,
  "nbformat_minor": 0,
  "metadata": {
    "colab": {
      "name": "imageClassifier.ipynb",
      "provenance": [],
      "collapsed_sections": []
    },
    "kernelspec": {
      "name": "python3",
      "display_name": "Python 3"
    },
    "language_info": {
      "name": "python"
    },
    "accelerator": "GPU"
  },
  "cells": [
    {
      "cell_type": "code",
      "execution_count": 1,
      "metadata": {
        "id": "6JDpV-gIIgmj"
      },
      "outputs": [],
      "source": [
        "import matplotlib.pyplot as plt\n",
        "import tensorflow as tf\n",
        "import tensorflow.keras.layers as ksl\n",
        "from keras.datasets import mnist\n",
        "import numpy as np "
      ]
    },
    {
      "cell_type": "code",
      "source": [
        "def BModel(metrics=None,loss='categorical_crossentropy',optimizer='adam'):    \n",
        "    \n",
        "    model = tf.keras.models.Sequential()\n",
        "    model.add(ksl.Conv2D(128, kernel_size=3, strides=2,padding='same'))\n",
        "    model.add(ksl.BatchNormalization())\n",
        "    model.add(ksl.Dropout(0.1))\n",
        "    model.add(ksl.LeakyReLU(alpha=0.1))\n",
        "    \n",
        "    model.add(ksl.Conv2D(64, kernel_size=3, strides=2,padding='same'))\n",
        "    model.add(ksl.BatchNormalization())\n",
        "    model.add(ksl.Dropout(0.05))\n",
        "    model.add(ksl.LeakyReLU(alpha=0.1))\n",
        "    \n",
        "    model.add(ksl.Conv2D(64, kernel_size=3, padding='same'))\n",
        "    model.add(ksl.LeakyReLU(alpha=0.1))\n",
        "    model.add(ksl.Flatten())\n",
        "    model.add(ksl.Dense(10,activation='softmax'))\n",
        "    \n",
        "    model.compile(optimizer=optimizer,loss=loss,metrics=metrics)\n",
        "    \n",
        "    return model"
      ],
      "metadata": {
        "id": "6qQMQCu5IkD6"
      },
      "execution_count": 38,
      "outputs": []
    },
    {
      "cell_type": "code",
      "source": [
        "def trainModel(model,image,target,valspl=0.2\n",
        "               ,epochs=10,callbacks=None,BatchSize=128):\n",
        "    image = np.array(image)\n",
        "    target = np.array(target)\n",
        "    \n",
        "    image = image/image.max()\n",
        "    NCL = len(np.unique(target))\n",
        "    target = tf.keras.utils.to_categorical(target,num_classes=NCL)\n",
        "    image = np.expand_dims(image,axis=3)\n",
        "    \n",
        "\n",
        "    Hist = model.fit(image,target,epochs=epochs,batch_size=BatchSize,\n",
        "                     callbacks=callbacks,validation_split=valspl)\n",
        "    return Hist"
      ],
      "metadata": {
        "id": "DGOPfjvoIoxV"
      },
      "execution_count": 39,
      "outputs": []
    },
    {
      "cell_type": "code",
      "source": [
        "def Evaluate(x,y,model):\n",
        "  image = np.array(x)\n",
        "  target = np.array(y)\n",
        "  \n",
        "  image = image/image.max()\n",
        "  NCL = len(np.unique(target))\n",
        "  target = tf.keras.utils.to_categorical(target,num_classes=NCL)\n",
        "  image = np.expand_dims(image,axis=3)\n",
        "\n",
        "  score = model.evaluate(image,target)\n",
        "  predict = model.predict(x)\n",
        "\n",
        "  return score,predict"
      ],
      "metadata": {
        "id": "dBV_7YkVJsTI"
      },
      "execution_count": 40,
      "outputs": []
    },
    {
      "cell_type": "code",
      "source": [
        "def SaveModel(model):\n",
        "    model.save('model')"
      ],
      "metadata": {
        "id": "4xiB8xPMIs2N"
      },
      "execution_count": 41,
      "outputs": []
    },
    {
      "cell_type": "code",
      "source": [
        "(xTrain,yTrain),(xTest,yTest) = mnist.load_data()\n",
        "model = BModel() \n",
        "Hist = trainModel(model,xTrain,yTrain,epochs=2,BatchSize=20)\n",
        "(score,p)= Evaluate(xTest,yTest,model)\n",
        "print('loss:', score)"
      ],
      "metadata": {
        "colab": {
          "base_uri": "https://localhost:8080/"
        },
        "id": "3H-fx7GzIyIT",
        "outputId": "4aa7bfee-47a0-4353-8359-13fdb1104f55"
      },
      "execution_count": 53,
      "outputs": [
        {
          "output_type": "stream",
          "name": "stdout",
          "text": [
            "Epoch 1/2\n",
            "2400/2400 [==============================] - 13s 5ms/step - loss: 0.1396 - val_loss: 0.0670\n",
            "Epoch 2/2\n",
            "2400/2400 [==============================] - 13s 5ms/step - loss: 0.0658 - val_loss: 0.0602\n",
            "313/313 [==============================] - 1s 3ms/step - loss: 0.0532\n",
            "loss: 0.05320601165294647\n"
          ]
        }
      ]
    },
    {
      "cell_type": "code",
      "source": [
        "plt.plot(Hist.epoch,Hist.history['loss'])\n",
        "plt.plot(Hist.epoch,Hist.history['val_loss'])\n",
        "plt.legend(['TrainLoss','ValidationLoss'])"
      ],
      "metadata": {
        "id": "ppMnT7ckWa5M",
        "colab": {
          "base_uri": "https://localhost:8080/",
          "height": 283
        },
        "outputId": "bbc695ed-a605-4be4-d99b-a80921a221ba"
      },
      "execution_count": 54,
      "outputs": [
        {
          "output_type": "execute_result",
          "data": {
            "text/plain": [
              "<matplotlib.legend.Legend at 0x7ff60c6e7c90>"
            ]
          },
          "metadata": {},
          "execution_count": 54
        },
        {
          "output_type": "display_data",
          "data": {
            "image/png": "[encoded data removed]",
            "text/plain": [
              "<Figure size 432x288 with 1 Axes>"
            ]
          },
          "metadata": {
            "needs_background": "light"
          }
        }
      ]
    },
    {
      "cell_type": "code",
      "source": [
        "plt.imshow(xTest[0])\n",
        "print('predict: ',np.argmax(p[0]))\n",
        "\n"
      ],
      "metadata": {
        "colab": {
          "base_uri": "https://localhost:8080/",
          "height": 283
        },
        "id": "B4uY0S_lCpzQ",
        "outputId": "33c24306-02df-4471-a5e9-9a53313f0e7f"
      },
      "execution_count": 55,
      "outputs": [
        {
          "output_type": "stream",
          "name": "stdout",
          "text": [
            "predict:  7\n"
          ]
        },
        {
          "output_type": "display_data",
          "data": {
            "image/png": "[encoded data removed]",
            "text/plain": [
              "<Figure size 432x288 with 1 Axes>"
            ]
          },
          "metadata": {
            "needs_background": "light"
          }
        }
      ]
    },
    {
      "cell_type": "code",
      "source": [
        "plt.imshow(xTest[1])\n",
        "print('predict: ',np.argmax(p[1]))"
      ],
      "metadata": {
        "colab": {
          "base_uri": "https://localhost:8080/",
          "height": 283
        },
        "id": "FFuNK-yMDNQu",
        "outputId": "d9280a72-be1e-4441-ac17-bef99917d11e"
      },
      "execution_count": 52,
      "outputs": [
        {
          "output_type": "stream",
          "name": "stdout",
          "text": [
            "predict:  2\n"
          ]
        },
        {
          "output_type": "display_data",
          "data": {
            "image/png": "[encoded data removed]",
            "text/plain": [
              "<Figure size 432x288 with 1 Axes>"
            ]
          },
          "metadata": {
            "needs_background": "light"
          }
        }
      ]
    }
  ]
}